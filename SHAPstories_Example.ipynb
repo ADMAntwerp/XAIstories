{
  "cells": [
    {
      "cell_type": "markdown",
      "metadata": {
        "id": "2g1xRwjcSwZp"
      },
      "source": [
        "# Tell Me a Story! - SHAPStories Example\n",
        "\n",
        "This notebook shows an example of how to generate SHAPstories using GPT models. In order to do this, you will require a OpenAI API key."
      ]
    },
    {
      "cell_type": "code",
      "execution_count": null,
      "metadata": {
        "id": "S-jEsJfxRtO_"
      },
      "outputs": [],
      "source": [
        "!git clone https://github.com/ADMAntwerp/XAIstories.git\n",
        "\n",
        "!pip install -r XAIstories/requirements.txt"
      ]
    },
    {
      "cell_type": "code",
      "execution_count": 5,
      "metadata": {
        "colab": {
          "base_uri": "https://localhost:8080/"
        },
        "id": "B7TGoHuPRz1o",
        "outputId": "0cd87a3a-9d0e-4757-c6f5-fca3533beb3c"
      },
      "outputs": [
        {
          "name": "stderr",
          "output_type": "stream",
          "text": [
            "Using `tqdm.autonotebook.tqdm` in notebook mode. Use `tqdm.tqdm` instead to force console mode (e.g. in jupyter console)\n"
          ]
        }
      ],
      "source": [
        "import shap\n",
        "import pandas as pd\n",
        "import numpy as np\n",
        "import pickle\n",
        "\n",
        "from sklearn.ensemble import RandomForestClassifier\n",
        "from sklearn.svm import SVC\n",
        "from sklearn.model_selection import train_test_split\n",
        "from sklearn.metrics import accuracy_score\n",
        "\n",
        "from XAIstories.Stories import SHAPstory"
      ]
    },
    {
      "cell_type": "markdown",
      "metadata": {
        "id": "B3cIJOTOR-t_"
      },
      "source": [
        "## FIFA Example"
      ]
    },
    {
      "cell_type": "markdown",
      "metadata": {},
      "source": [
        "### Load Pre-Trained Model and Data"
      ]
    },
    {
      "cell_type": "code",
      "execution_count": null,
      "metadata": {},
      "outputs": [],
      "source": [
        "# Load Pre-Trained Model\n",
        "\n",
        "fifa_model_path = \"XAIstories/models/RF_model_FIFA.pkl\"\n",
        "fifa_model_file = open(fifa_model_path, \"rb\")\n",
        "\n",
        "fifa_model = pickle.load(fifa_model_file)\n",
        "\n",
        "# Load Data and Split\n",
        "\n",
        "fifa_data = pd.read_csv(\"XAIstories/data/FIFA_2018_Statistics.csv\")\n",
        "\n",
        "feature_names = [i for i in fifa_data.columns if fifa_data[i].dtype in [np.int64, np.int64]]\n",
        "fifa_x = fifa_data[feature_names]\n",
        "\n",
        "fifa_y = (fifa_data[\"Man of the Match\"] == \"Yes\")\n",
        "\n",
        "fifa_x_train, fifa_x_test, fifa_y_train, fifa_y_test = train_test_split(fifa_x, fifa_y, test_size=0.2)"
      ]
    },
    {
      "cell_type": "markdown",
      "metadata": {},
      "source": [
        "### Train and Compare Accuracy of Various Models"
      ]
    },
    {
      "cell_type": "code",
      "execution_count": null,
      "metadata": {},
      "outputs": [],
      "source": [
        "# Pre-Trained (Random Forrest) Accuracy\n",
        "pre_trained_predictions = fifa_model.predict(fifa_x_test)\n",
        "pre_trained_accuracy = accuracy_score(fifa_y_test, pre_trained_predictions)\n",
        "print(\"Pre-Trained Accuracy:\", pre_trained_accuracy)\n",
        "\n",
        "# Train a SVM\n",
        "fifa_svm_model = SVC(kernel=\"linear\", probability=True)\n",
        "fifa_svm_model.fit(fifa_x_train, fifa_y_train)\n",
        "\n",
        "svm_predictions = fifa_svm_model.predict(fifa_x_test)\n",
        "\n",
        "svm_accuracy = accuracy_score(fifa_y_test, svm_predictions)\n",
        "print(\"SVM Accuracy:\", svm_accuracy)"
      ]
    },
    {
      "cell_type": "markdown",
      "metadata": {
        "id": "_wQLPn65Sapz"
      },
      "source": [
        "Manually Created Descriptions"
      ]
    },
    {
      "cell_type": "code",
      "execution_count": 11,
      "metadata": {
        "id": "Wmhge5RHSY6k"
      },
      "outputs": [],
      "source": [
        "feature_desc = [\n",
        "    'Number of goals scored by the team during the match.',\n",
        "    'Percentage of ball possession by the team during the match.',\n",
        "    'Number of attempts or shots taken by the team.',\n",
        "    'Number of shots that were on target.',\n",
        "    'Number of shots that went off target.',\n",
        "    'Number of shots that were blocked by the opponent.',\n",
        "    'Number of corner kicks taken by the team.',\n",
        "    'Number of times the team was caught offside.',\n",
        "    'Number of free kicks taken by the team.',\n",
        "    \"Number of saves made by the team's goalkeeper.\",\n",
        "    'Percentage of passes that successfully reached a teammate.',\n",
        "    'Total number of passes made by the team.',\n",
        "    \"Total distance covered by the team's players during the match, in kilometers.\",\n",
        "    'Number of fouls committed by the team.',\n",
        "    'Number of yellow cards received by the team.',\n",
        "    'Number of yellow-red cards received by the team.',\n",
        "    'Number of red cards received by the team.',\n",
        "    'Number of goals scored by the team during the penalty shootout.'\n",
        "]\n",
        "\n",
        "fifa_desc_df = pd.DataFrame({\n",
        "    \"feature_name\": list(fifa_x.columns),\n",
        "    \"feature_desc\": feature_desc\n",
        "})"
      ]
    },
    {
      "cell_type": "code",
      "execution_count": 12,
      "metadata": {
        "id": "9eeDRSZ4SiSm"
      },
      "outputs": [],
      "source": [
        "fifa_dataset_description = \"\"\"whether a football team will have the \"Man of the Match\" winner in a FIFA Worldcup match, based on the team's statistics \"\"\"\n",
        "\n",
        "fifa_input_description = \"the match\"\n",
        "\n",
        "fifa_target_description = \"\"\"one of the team's players will be the \"Man of the Match\" winner\"\"\"\n",
        "\n",
        "api_key = \"YOUR API KEY HERE\""
      ]
    },
    {
      "cell_type": "markdown",
      "metadata": {
        "id": "PmsE6j1QTIOr"
      },
      "source": [
        "Generate Stories for both pre-trained random forest and SVM"
      ]
    },
    {
      "cell_type": "code",
      "execution_count": null,
      "metadata": {},
      "outputs": [],
      "source": [
        "help(SHAPstory.generate_stories)"
      ]
    },
    {
      "cell_type": "code",
      "execution_count": null,
      "metadata": {
        "id": "cNvc28nhSlkx"
      },
      "outputs": [],
      "source": [
        "fifaStory = SHAPstory(api_key, fifa_desc_df, fifa_dataset_description, fifa_input_description, fifa_target_description)\n",
        "\n",
        "rf_stories = fifaStory.generate_stories(fifa_model,fifa_x_test.head(),fifa_y_test.head())\n",
        "\n",
        "print(\"RF Story\")\n",
        "print(rf_stories[0])\n",
        "\n",
        "print()\n",
        "\n",
        "svm_stories = fifaStory.generate_stories(fifa_svm_model,fifa_x_test.head(),fifa_y_test.head(),tree=False)\n",
        "\n",
        "print(\"SVM story\")\n",
        "print(svm_stories[0])"
      ]
    }
  ],
  "metadata": {
    "colab": {
      "provenance": []
    },
    "kernelspec": {
      "display_name": "Python 3",
      "name": "python3"
    },
    "language_info": {
      "name": "python"
    }
  },
  "nbformat": 4,
  "nbformat_minor": 0
}
